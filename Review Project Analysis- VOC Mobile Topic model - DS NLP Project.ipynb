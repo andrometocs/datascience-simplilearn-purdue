{
 "cells": [
  {
   "cell_type": "markdown",
   "metadata": {},
   "source": [
    "# Tasks - \n",
    "\n",
    "1. Normalize case\n",
    "2. Tokenize (using word_tokenize from NLTK)\n",
    "3. POS tagging using the NLTK pos tagger\n",
    "4. For the topic model, we would want to include only nouns\n",
    " - First, find out all the POS tags that correspond to nouns\n",
    " - Limit the data to only terms with these tags\n",
    "5. Lemmatize (you want different forms of the terms to be treated as one, don't worry about providing POS tag to lemmatizer for now)\n",
    "6. Remove stop words and punctuation (if there are any at all after the POS tagging)\n",
    "7. Create a topic model using LDA on the cleaned up data with 12 topics\n",
    " - choose the topic model parameters carefully\n",
    " - what is the perplexity of the model?\n",
    " - what is the coherence of the model?\n",
    "8. Analyze the topics, which pairs of topics can be combined?\n",
    "9. Create topic model using LDA with what you think is the optimal number of topics\n",
    " - choose the topic model parameters carefully\n",
    " - is the perplexity better now?\n",
    " - is the coherence better now?\n",
    "10. The business finally needs to be able to interpret the topics\n",
    " - name each of the identified topics\n",
    " - create a table with the topic name and the top 10 terms in each to present to business"
   ]
  },
  {
   "cell_type": "markdown",
   "metadata": {},
   "source": [
    "### Task 1 : Normalize Case"
   ]
  },
  {
   "cell_type": "code",
   "execution_count": 1,
   "metadata": {},
   "outputs": [],
   "source": [
    "# import libraries\n",
    "import warnings\n",
    "warnings.filterwarnings(\"ignore\")\n",
    "\n",
    "import numpy as np, pandas as pd\n",
    "import re, random, os, string\n",
    "\n",
    "from pprint import pprint #pretty print\n",
    "import matplotlib.pyplot as plt\n",
    "%matplotlib inline\n",
    "\n",
    "from nltk.tokenize import word_tokenize\n",
    "from nltk.stem import WordNetLemmatizer"
   ]
  },
  {
   "cell_type": "code",
   "execution_count": 2,
   "metadata": {},
   "outputs": [
    {
     "data": {
      "text/html": [
       "<div>\n",
       "<style scoped>\n",
       "    .dataframe tbody tr th:only-of-type {\n",
       "        vertical-align: middle;\n",
       "    }\n",
       "\n",
       "    .dataframe tbody tr th {\n",
       "        vertical-align: top;\n",
       "    }\n",
       "\n",
       "    .dataframe thead th {\n",
       "        text-align: right;\n",
       "    }\n",
       "</style>\n",
       "<table border=\"1\" class=\"dataframe\">\n",
       "  <thead>\n",
       "    <tr style=\"text-align: right;\">\n",
       "      <th></th>\n",
       "      <th>sentiment</th>\n",
       "      <th>review</th>\n",
       "    </tr>\n",
       "  </thead>\n",
       "  <tbody>\n",
       "    <tr>\n",
       "      <th>0</th>\n",
       "      <td>1</td>\n",
       "      <td>Good but need updates and improvements</td>\n",
       "    </tr>\n",
       "    <tr>\n",
       "      <th>1</th>\n",
       "      <td>0</td>\n",
       "      <td>Worst mobile i have bought ever, Battery is dr...</td>\n",
       "    </tr>\n",
       "    <tr>\n",
       "      <th>2</th>\n",
       "      <td>1</td>\n",
       "      <td>when I will get my 10% cash back.... its alrea...</td>\n",
       "    </tr>\n",
       "    <tr>\n",
       "      <th>3</th>\n",
       "      <td>1</td>\n",
       "      <td>Good</td>\n",
       "    </tr>\n",
       "    <tr>\n",
       "      <th>4</th>\n",
       "      <td>0</td>\n",
       "      <td>The worst phone everThey have changed the last...</td>\n",
       "    </tr>\n",
       "  </tbody>\n",
       "</table>\n",
       "</div>"
      ],
      "text/plain": [
       "   sentiment                                             review\n",
       "0          1             Good but need updates and improvements\n",
       "1          0  Worst mobile i have bought ever, Battery is dr...\n",
       "2          1  when I will get my 10% cash back.... its alrea...\n",
       "3          1                                               Good\n",
       "4          0  The worst phone everThey have changed the last..."
      ]
     },
     "execution_count": 2,
     "metadata": {},
     "output_type": "execute_result"
    }
   ],
   "source": [
    "reviews = pd.read_csv(\"K8 Reviews v0.2.csv\")\n",
    "reviews.head()"
   ]
  },
  {
   "cell_type": "code",
   "execution_count": 3,
   "metadata": {},
   "outputs": [
    {
     "data": {
      "text/plain": [
       "'good but need updates and improvements'"
      ]
     },
     "execution_count": 3,
     "metadata": {},
     "output_type": "execute_result"
    }
   ],
   "source": [
    "reviewsLower = [sent.lower() for sent in reviews.review.values]\n",
    "reviewsLower[0]"
   ]
  },
  {
   "cell_type": "markdown",
   "metadata": {},
   "source": [
    "### Task 2. Tokenize (using word_tokenize from NLTK)"
   ]
  },
  {
   "cell_type": "code",
   "execution_count": 4,
   "metadata": {},
   "outputs": [
    {
     "data": {
      "text/plain": [
       "['good', 'but', 'need', 'updates', 'and', 'improvements']"
      ]
     },
     "execution_count": 4,
     "metadata": {},
     "output_type": "execute_result"
    }
   ],
   "source": [
    "reviewsToken = [word_tokenize(sent) for sent in reviewsLower]\n",
    "reviewsToken[0]"
   ]
  },
  {
   "cell_type": "markdown",
   "metadata": {},
   "source": [
    "### Task 3. POS tagging using the NLTK pos tagger"
   ]
  },
  {
   "cell_type": "code",
   "execution_count": 5,
   "metadata": {},
   "outputs": [],
   "source": [
    "import nltk"
   ]
  },
  {
   "cell_type": "code",
   "execution_count": 6,
   "metadata": {},
   "outputs": [
    {
     "data": {
      "text/plain": [
       "[('good', 'JJ'),\n",
       " ('but', 'CC'),\n",
       " ('need', 'VBP'),\n",
       " ('updates', 'NNS'),\n",
       " ('and', 'CC'),\n",
       " ('improvements', 'NNS')]"
      ]
     },
     "execution_count": 6,
     "metadata": {},
     "output_type": "execute_result"
    }
   ],
   "source": [
    "nltk.pos_tag(reviewsToken[0])"
   ]
  },
  {
   "cell_type": "code",
   "execution_count": 8,
   "metadata": {},
   "outputs": [
    {
     "data": {
      "text/plain": [
       "[('I', 'PRP'), ('like', 'VBP'), ('to', 'TO'), ('move', 'VB'), ('it', 'PRP')]"
      ]
     },
     "execution_count": 8,
     "metadata": {},
     "output_type": "execute_result"
    }
   ],
   "source": [
    "sent = \"I like to move it\".split()\n",
    "sentTagged = nltk.pos_tag(sent)\n",
    "sentTagged"
   ]
  },
  {
   "cell_type": "code",
   "execution_count": 9,
   "metadata": {},
   "outputs": [
    {
     "data": {
      "text/plain": [
       "[('good', 'JJ'),\n",
       " ('but', 'CC'),\n",
       " ('need', 'VBP'),\n",
       " ('updates', 'NNS'),\n",
       " ('and', 'CC'),\n",
       " ('improvements', 'NNS')]"
      ]
     },
     "execution_count": 9,
     "metadata": {},
     "output_type": "execute_result"
    }
   ],
   "source": [
    "reviewsTagged = [nltk.pos_tag(tokens) for tokens in reviewsToken]\n",
    "reviewsTagged[0]"
   ]
  },
  {
   "cell_type": "markdown",
   "metadata": {},
   "source": [
    "### Task 4. For the topic model, we would want to include only nouns\n",
    " - First, find out all the POS tags that correspond to nouns\n",
    " - Limit the data to only terms with these tags\n"
   ]
  },
  {
   "cell_type": "code",
   "execution_count": 10,
   "metadata": {},
   "outputs": [
    {
     "name": "stdout",
     "output_type": "stream",
     "text": [
      "$: dollar\n",
      "    $ -$ --$ A$ C$ HK$ M$ NZ$ S$ U.S.$ US$\n",
      "'': closing quotation mark\n",
      "    ' ''\n",
      "(: opening parenthesis\n",
      "    ( [ {\n",
      "): closing parenthesis\n",
      "    ) ] }\n",
      ",: comma\n",
      "    ,\n",
      "--: dash\n",
      "    --\n",
      ".: sentence terminator\n",
      "    . ! ?\n",
      ":: colon or ellipsis\n",
      "    : ; ...\n",
      "CC: conjunction, coordinating\n",
      "    & 'n and both but either et for less minus neither nor or plus so\n",
      "    therefore times v. versus vs. whether yet\n",
      "CD: numeral, cardinal\n",
      "    mid-1890 nine-thirty forty-two one-tenth ten million 0.5 one forty-\n",
      "    seven 1987 twenty '79 zero two 78-degrees eighty-four IX '60s .025\n",
      "    fifteen 271,124 dozen quintillion DM2,000 ...\n",
      "DT: determiner\n",
      "    all an another any both del each either every half la many much nary\n",
      "    neither no some such that the them these this those\n",
      "EX: existential there\n",
      "    there\n",
      "FW: foreign word\n",
      "    gemeinschaft hund ich jeux habeas Haementeria Herr K'ang-si vous\n",
      "    lutihaw alai je jour objets salutaris fille quibusdam pas trop Monte\n",
      "    terram fiche oui corporis ...\n",
      "IN: preposition or conjunction, subordinating\n",
      "    astride among uppon whether out inside pro despite on by throughout\n",
      "    below within for towards near behind atop around if like until below\n",
      "    next into if beside ...\n",
      "JJ: adjective or numeral, ordinal\n",
      "    third ill-mannered pre-war regrettable oiled calamitous first separable\n",
      "    ectoplasmic battery-powered participatory fourth still-to-be-named\n",
      "    multilingual multi-disciplinary ...\n",
      "JJR: adjective, comparative\n",
      "    bleaker braver breezier briefer brighter brisker broader bumper busier\n",
      "    calmer cheaper choosier cleaner clearer closer colder commoner costlier\n",
      "    cozier creamier crunchier cuter ...\n",
      "JJS: adjective, superlative\n",
      "    calmest cheapest choicest classiest cleanest clearest closest commonest\n",
      "    corniest costliest crassest creepiest crudest cutest darkest deadliest\n",
      "    dearest deepest densest dinkiest ...\n",
      "LS: list item marker\n",
      "    A A. B B. C C. D E F First G H I J K One SP-44001 SP-44002 SP-44005\n",
      "    SP-44007 Second Third Three Two * a b c d first five four one six three\n",
      "    two\n",
      "MD: modal auxiliary\n",
      "    can cannot could couldn't dare may might must need ought shall should\n",
      "    shouldn't will would\n",
      "NN: noun, common, singular or mass\n",
      "    common-carrier cabbage knuckle-duster Casino afghan shed thermostat\n",
      "    investment slide humour falloff slick wind hyena override subhumanity\n",
      "    machinist ...\n",
      "NNP: noun, proper, singular\n",
      "    Motown Venneboerger Czestochwa Ranzer Conchita Trumplane Christos\n",
      "    Oceanside Escobar Kreisler Sawyer Cougar Yvette Ervin ODI Darryl CTCA\n",
      "    Shannon A.K.C. Meltex Liverpool ...\n",
      "NNPS: noun, proper, plural\n",
      "    Americans Americas Amharas Amityvilles Amusements Anarcho-Syndicalists\n",
      "    Andalusians Andes Andruses Angels Animals Anthony Antilles Antiques\n",
      "    Apache Apaches Apocrypha ...\n",
      "NNS: noun, common, plural\n",
      "    undergraduates scotches bric-a-brac products bodyguards facets coasts\n",
      "    divestitures storehouses designs clubs fragrances averages\n",
      "    subjectivists apprehensions muses factory-jobs ...\n",
      "PDT: pre-determiner\n",
      "    all both half many quite such sure this\n",
      "POS: genitive marker\n",
      "    ' 's\n",
      "PRP: pronoun, personal\n",
      "    hers herself him himself hisself it itself me myself one oneself ours\n",
      "    ourselves ownself self she thee theirs them themselves they thou thy us\n",
      "PRP$: pronoun, possessive\n",
      "    her his mine my our ours their thy your\n",
      "RB: adverb\n",
      "    occasionally unabatingly maddeningly adventurously professedly\n",
      "    stirringly prominently technologically magisterially predominately\n",
      "    swiftly fiscally pitilessly ...\n",
      "RBR: adverb, comparative\n",
      "    further gloomier grander graver greater grimmer harder harsher\n",
      "    healthier heavier higher however larger later leaner lengthier less-\n",
      "    perfectly lesser lonelier longer louder lower more ...\n",
      "RBS: adverb, superlative\n",
      "    best biggest bluntest earliest farthest first furthest hardest\n",
      "    heartiest highest largest least less most nearest second tightest worst\n",
      "RP: particle\n",
      "    aboard about across along apart around aside at away back before behind\n",
      "    by crop down ever fast for forth from go high i.e. in into just later\n",
      "    low more off on open out over per pie raising start teeth that through\n",
      "    under unto up up-pp upon whole with you\n",
      "SYM: symbol\n",
      "    % & ' '' ''. ) ). * + ,. < = > @ A[fj] U.S U.S.S.R * ** ***\n",
      "TO: \"to\" as preposition or infinitive marker\n",
      "    to\n",
      "UH: interjection\n",
      "    Goodbye Goody Gosh Wow Jeepers Jee-sus Hubba Hey Kee-reist Oops amen\n",
      "    huh howdy uh dammit whammo shucks heck anyways whodunnit honey golly\n",
      "    man baby diddle hush sonuvabitch ...\n",
      "VB: verb, base form\n",
      "    ask assemble assess assign assume atone attention avoid bake balkanize\n",
      "    bank begin behold believe bend benefit bevel beware bless boil bomb\n",
      "    boost brace break bring broil brush build ...\n",
      "VBD: verb, past tense\n",
      "    dipped pleaded swiped regummed soaked tidied convened halted registered\n",
      "    cushioned exacted snubbed strode aimed adopted belied figgered\n",
      "    speculated wore appreciated contemplated ...\n",
      "VBG: verb, present participle or gerund\n",
      "    telegraphing stirring focusing angering judging stalling lactating\n",
      "    hankerin' alleging veering capping approaching traveling besieging\n",
      "    encrypting interrupting erasing wincing ...\n",
      "VBN: verb, past participle\n",
      "    multihulled dilapidated aerosolized chaired languished panelized used\n",
      "    experimented flourished imitated reunifed factored condensed sheared\n",
      "    unsettled primed dubbed desired ...\n",
      "VBP: verb, present tense, not 3rd person singular\n",
      "    predominate wrap resort sue twist spill cure lengthen brush terminate\n",
      "    appear tend stray glisten obtain comprise detest tease attract\n",
      "    emphasize mold postpone sever return wag ...\n",
      "VBZ: verb, present tense, 3rd person singular\n",
      "    bases reconstructs marks mixes displeases seals carps weaves snatches\n",
      "    slumps stretches authorizes smolders pictures emerges stockpiles\n",
      "    seduces fizzes uses bolsters slaps speaks pleads ...\n",
      "WDT: WH-determiner\n",
      "    that what whatever which whichever\n",
      "WP: WH-pronoun\n",
      "    that what whatever whatsoever which who whom whosoever\n",
      "WP$: WH-pronoun, possessive\n",
      "    whose\n",
      "WRB: Wh-adverb\n",
      "    how however whence whenever where whereby whereever wherein whereof why\n",
      "``: opening quotation mark\n",
      "    ` ``\n"
     ]
    }
   ],
   "source": [
    "nltk.help.upenn_tagset()"
   ]
  },
  {
   "cell_type": "code",
   "execution_count": 11,
   "metadata": {},
   "outputs": [
    {
     "data": {
      "text/plain": [
       "('great', 'JJ')"
      ]
     },
     "execution_count": 11,
     "metadata": {},
     "output_type": "execute_result"
    }
   ],
   "source": [
    "taggedTuple = nltk.pos_tag(['great'])\n",
    "taggedTuple[0]"
   ]
  },
  {
   "cell_type": "code",
   "execution_count": 12,
   "metadata": {},
   "outputs": [
    {
     "name": "stdout",
     "output_type": "stream",
     "text": [
      "'great'\n",
      "'JJ'\n"
     ]
    }
   ],
   "source": [
    "pprint(taggedTuple[0][0])\n",
    "pprint(taggedTuple[0][1])"
   ]
  },
  {
   "cell_type": "code",
   "execution_count": 13,
   "metadata": {},
   "outputs": [
    {
     "data": {
      "text/plain": [
       "[('updates', 'NNS'), ('improvements', 'NNS')]"
      ]
     },
     "execution_count": 13,
     "metadata": {},
     "output_type": "execute_result"
    }
   ],
   "source": [
    "reviewsNoun=[]\n",
    "for sent in reviewsTagged:\n",
    "    reviewsNoun.append([token for token in sent if re.search(\"NN.*\", token[1])])\n",
    "reviewsNoun[0]"
   ]
  },
  {
   "cell_type": "markdown",
   "metadata": {},
   "source": [
    "### Task  5. Lemmatize\n",
    " - you want different forms of the terms to be treated as one\n",
    " - don't worry about providing POS tag to lemmatizer for now"
   ]
  },
  {
   "cell_type": "code",
   "execution_count": 15,
   "metadata": {},
   "outputs": [],
   "source": [
    "lemm = WordNetLemmatizer()\n",
    "reviewsLemm=[]\n",
    "for sent in reviewsNoun:\n",
    "    reviewsLemm.append([lemm.lemmatize(word[0]) for word in sent])"
   ]
  },
  {
   "cell_type": "code",
   "execution_count": 18,
   "metadata": {},
   "outputs": [
    {
     "data": {
      "text/plain": [
       "[['update', 'improvement'],\n",
       " ['mobile',\n",
       "  'i',\n",
       "  'battery',\n",
       "  'hell',\n",
       "  'backup',\n",
       "  'hour',\n",
       "  'us',\n",
       "  'idle',\n",
       "  'discharged.this',\n",
       "  'lie',\n",
       "  'amazon',\n",
       "  'lenove',\n",
       "  'battery',\n",
       "  'charger',\n",
       "  'hour',\n",
       "  'don'],\n",
       " ['i', '%', 'cash', 'january..'],\n",
       " [],\n",
       " ['phone', 'everthey', 'phone', 'problem', 'amazon', 'phone', 'amazon']]"
      ]
     },
     "execution_count": 18,
     "metadata": {},
     "output_type": "execute_result"
    }
   ],
   "source": [
    "reviewsLemm[0:5]"
   ]
  },
  {
   "cell_type": "markdown",
   "metadata": {},
   "source": [
    "### Task  6. Remove stop words and punctuation (if there are any at all after the POS tagging)"
   ]
  },
  {
   "cell_type": "code",
   "execution_count": 20,
   "metadata": {},
   "outputs": [],
   "source": [
    "from string import punctuation\n",
    "from nltk.corpus import stopwords\n",
    "stopNltk = stopwords.words(\"english\")"
   ]
  },
  {
   "cell_type": "code",
   "execution_count": 21,
   "metadata": {},
   "outputs": [],
   "source": [
    "stopUpdated = stopNltk + list(punctuation) + [\"...\"] + [\"..\"]\n",
    "reviewsStopWordremoved=[]\n",
    "for sent in reviewsLemm:\n",
    "    reviewsStopWordremoved.append([term for term in sent if term not in stopUpdated])"
   ]
  },
  {
   "cell_type": "code",
   "execution_count": 23,
   "metadata": {},
   "outputs": [
    {
     "data": {
      "text/plain": [
       "[['mobile',\n",
       "  'battery',\n",
       "  'hell',\n",
       "  'backup',\n",
       "  'hour',\n",
       "  'us',\n",
       "  'idle',\n",
       "  'discharged.this',\n",
       "  'lie',\n",
       "  'amazon',\n",
       "  'lenove',\n",
       "  'battery',\n",
       "  'charger',\n",
       "  'hour'],\n",
       " ['cash', 'january..'],\n",
       " []]"
      ]
     },
     "execution_count": 23,
     "metadata": {},
     "output_type": "execute_result"
    }
   ],
   "source": [
    "reviewsStopWordremoved[1:4]"
   ]
  },
  {
   "cell_type": "markdown",
   "metadata": {},
   "source": [
    "##3 Task 7. Create a topic model using LDA on the cleaned up data with 12 topics\n",
    " - what is the coherence of the model?\n",
    " \n",
    " Use gensim for this task"
   ]
  },
  {
   "cell_type": "code",
   "execution_count": 24,
   "metadata": {},
   "outputs": [],
   "source": [
    "import gensim\n",
    "import gensim.corpora as corpora\n",
    "from gensim.models import CoherenceModel\n",
    "from gensim.models import ldamodel"
   ]
  },
  {
   "cell_type": "code",
   "execution_count": 25,
   "metadata": {},
   "outputs": [],
   "source": [
    "id2word = corpora.Dictionary(reviewsStopWordremoved)\n",
    "texts = reviewsStopWordremoved\n",
    "corpus = [id2word.doc2bow(text) for text in texts]"
   ]
  },
  {
   "cell_type": "code",
   "execution_count": 26,
   "metadata": {},
   "outputs": [
    {
     "name": "stdout",
     "output_type": "stream",
     "text": [
      "[(426, 1), (427, 1), (428, 1), (429, 1)]\n"
     ]
    }
   ],
   "source": [
    "print(corpus[200])"
   ]
  },
  {
   "cell_type": "code",
   "execution_count": 27,
   "metadata": {},
   "outputs": [],
   "source": [
    "lda_model = gensim.models.ldamodel.LdaModel(corpus=corpus,\n",
    "                                           id2word=id2word,\n",
    "                                           num_topics=12, \n",
    "                                           random_state=42,\n",
    "                                           passes=10,\n",
    "                                           per_word_topics=True)"
   ]
  },
  {
   "cell_type": "code",
   "execution_count": 28,
   "metadata": {},
   "outputs": [
    {
     "name": "stdout",
     "output_type": "stream",
     "text": [
      "[(0,\n",
      "  '0.381*\"mobile\" + 0.023*\"problem\" + 0.023*\"notification\" + 0.017*\"heat\" + '\n",
      "  '0.016*\"cell\" + 0.016*\"message\" + 0.011*\"hang\" + 0.011*\"rate\" + '\n",
      "  '0.010*\"whatsapp\" + 0.009*\"call\"'),\n",
      " (1,\n",
      "  '0.267*\"battery\" + 0.105*\"problem\" + 0.055*\"backup\" + 0.055*\"heating\" + '\n",
      "  '0.052*\"issue\" + 0.037*\"performance\" + 0.036*\"hour\" + 0.032*\"day\" + '\n",
      "  '0.030*\"time\" + 0.029*\"life\"'),\n",
      " (2,\n",
      "  '0.062*\"handset\" + 0.051*\"software\" + 0.041*\"box\" + 0.032*\"contact\" + '\n",
      "  '0.030*\"update\" + 0.026*\"set\" + 0.023*\"star\" + 0.023*\"option\" + 0.022*\"item\" '\n",
      "  '+ 0.020*\"purchase\"'),\n",
      " (3,\n",
      "  '0.080*\"phone\" + 0.049*\"amazon\" + 0.044*\"service\" + 0.030*\"lenovo\" + '\n",
      "  '0.030*\"day\" + 0.029*\"issue\" + 0.027*\"problem\" + 0.026*\"time\" + '\n",
      "  '0.022*\"delivery\" + 0.019*\"experience\"'),\n",
      " (4,\n",
      "  '0.135*\"feature\" + 0.076*\"camera\" + 0.048*\"mode\" + 0.037*\"video\" + '\n",
      "  '0.027*\"android\" + 0.025*\"stock\" + 0.023*\"depth\" + 0.019*\"gallery\" + '\n",
      "  '0.018*\"volta\" + 0.017*\"thanks\"'),\n",
      " (5,\n",
      "  '0.439*\"product\" + 0.090*\"charger\" + 0.018*\"earphone\" + 0.016*\"turbo\" + '\n",
      "  '0.016*\"buy\" + 0.016*\"piece\" + 0.015*\"awesome\" + 0.012*\"cable\" + '\n",
      "  '0.012*\"work\" + 0.012*\"bill\"'),\n",
      " (6,\n",
      "  '0.091*\"network\" + 0.068*\"call\" + 0.046*\"sim\" + 0.036*\"hai\" + 0.024*\"jio\" + '\n",
      "  '0.019*\"card\" + 0.017*\"signal\" + 0.017*\"issue\" + 0.016*\"slot\" + '\n",
      "  '0.016*\"voice\"'),\n",
      " (7,\n",
      "  '0.289*\"camera\" + 0.192*\"quality\" + 0.026*\"glass\" + 0.022*\"clarity\" + '\n",
      "  '0.019*\"everything\" + 0.018*\"performance\" + 0.017*\"picture\" + 0.016*\"front\" '\n",
      "  '+ 0.015*\"sound\" + 0.014*\"mp\"'),\n",
      " (8,\n",
      "  '0.378*\"phone\" + 0.026*\"device\" + 0.025*\"screen\" + 0.021*\"issue\" + '\n",
      "  '0.018*\"time\" + 0.017*\"update\" + 0.017*\"processor\" + 0.014*\"budget\" + '\n",
      "  '0.012*\"lot\" + 0.012*\"performance\"'),\n",
      " (9,\n",
      "  '0.116*\"phone\" + 0.097*\"price\" + 0.068*\"camera\" + 0.038*\"range\" + '\n",
      "  '0.037*\"display\" + 0.029*\"heat\" + 0.026*\"battery\" + 0.020*\"performance\" + '\n",
      "  '0.018*\"bit\" + 0.018*\"usage\"'),\n",
      " (10,\n",
      "  '0.163*\"note\" + 0.081*\"k8\" + 0.063*\"lenovo\" + 0.052*\"speaker\" + '\n",
      "  '0.028*\"sound\" + 0.023*\"dolby\" + 0.019*\"headphone\" + 0.018*\"music\" + '\n",
      "  '0.016*\"key\" + 0.015*\"killer\"'),\n",
      " (11,\n",
      "  '0.176*\"money\" + 0.082*\"waste\" + 0.067*\"value\" + 0.057*\"superb\" + '\n",
      "  '0.039*\"expectation\" + 0.030*\"super\" + 0.027*\"worth\" + 0.023*\"mark\" + '\n",
      "  '0.012*\"draining\" + 0.011*\"condition\"')]\n"
     ]
    }
   ],
   "source": [
    "pprint(lda_model.print_topics())"
   ]
  },
  {
   "cell_type": "code",
   "execution_count": 30,
   "metadata": {},
   "outputs": [
    {
     "name": "stdout",
     "output_type": "stream",
     "text": [
      "\n",
      "Coherence Score:  0.5560767730635368\n"
     ]
    }
   ],
   "source": [
    "# Compute Coherence Score\n",
    "coherence_model_lda = CoherenceModel(model=lda_model, texts=reviewsStopWordremoved, dictionary=id2word, coherence='c_v')\n",
    "coherence_lda = coherence_model_lda.get_coherence()\n",
    "print('\\nCoherence Score: ', coherence_lda)"
   ]
  },
  {
   "cell_type": "markdown",
   "metadata": {},
   "source": [
    "### Task 8. Analyze the topics, which pairs of topics can be combined?\n",
    " - you can assume that if a pair of topics has very similar top terms, they are very close and can be combined"
   ]
  },
  {
   "cell_type": "markdown",
   "metadata": {},
   "source": [
    "### Looking at the topics and each terms following can be combined -\n",
    "\n",
    " 1. Topic 2 and 5 related about 'pricing'  \n",
    " 2. Topic 4, 6 and 10 related to'battery related issues'  \n",
    " 3. Topic 3 and 11 = 'performance'"
   ]
  },
  {
   "cell_type": "markdown",
   "metadata": {},
   "source": [
    "### Task 9. Create topic model using LDA with what you think is the optimal number of topics\n",
    "\n",
    " - is the coherence better now?"
   ]
  },
  {
   "cell_type": "code",
   "execution_count": 31,
   "metadata": {},
   "outputs": [],
   "source": [
    "# Build LDA model\n",
    "lda_model8 = gensim.models.ldamodel.LdaModel(corpus=corpus,\n",
    "                                           id2word=id2word,\n",
    "                                           num_topics=8, \n",
    "                                           random_state=42,\n",
    "                                           passes=10,\n",
    "                                           per_word_topics=True)"
   ]
  },
  {
   "cell_type": "code",
   "execution_count": 33,
   "metadata": {},
   "outputs": [
    {
     "name": "stdout",
     "output_type": "stream",
     "text": [
      "\n",
      "Coherence Score:  0.5470127061130555\n"
     ]
    }
   ],
   "source": [
    "# Compute Coherence Score\n",
    "coherence_model_lda = CoherenceModel(model=lda_model8, texts=reviewsStopWordremoved, dictionary=id2word, coherence='c_v')\n",
    "coherence_lda = coherence_model_lda.get_coherence()\n",
    "print('\\nCoherence Score: ', coherence_lda)"
   ]
  },
  {
   "cell_type": "markdown",
   "metadata": {},
   "source": [
    "### Task 10. The business finally needs to be able to interpret the topics\n",
    " - name each of the identified topics\n",
    " - create a table with the topic name and the top 10 terms in each to present to business"
   ]
  },
  {
   "cell_type": "code",
   "execution_count": 34,
   "metadata": {},
   "outputs": [],
   "source": [
    "x = lda_model8.show_topics(formatted=False)\n",
    "topics_words = [(tp[0], [wd[0] for wd in tp[1]]) for tp in x]"
   ]
  },
  {
   "cell_type": "code",
   "execution_count": 35,
   "metadata": {},
   "outputs": [
    {
     "name": "stdout",
     "output_type": "stream",
     "text": [
      "0::['mobile', 'charger', 'heat', 'charge', 'superb', 'turbo', 'hour', 'min', 'notification', 'awesome']\n",
      "1::['battery', 'phone', 'problem', 'camera', 'backup', 'heating', 'issue', 'performance', 'quality', 'life']\n",
      "2::['note', 'k8', 'lenovo', 'phone', 'software', 'screen', 'update', 'issue', 'handset', 'option']\n",
      "3::['phone', 'amazon', 'issue', 'time', 'service', 'day', 'problem', 'month', 'lenovo', 'delivery']\n",
      "4::['phone', 'camera', 'price', 'feature', 'range', 'mode', 'performance', 'device', 'quality', 'depth']\n",
      "5::['product', 'money', 'waste', 'performance', 'ok', 'cast', 'item', 'pic', 'please', 'work']\n",
      "6::['phone', 'network', 'call', 'sim', 'hai', 'jio', 'volta', 'budget', 'card', 'issue']\n",
      "7::['camera', 'quality', 'money', 'value', 'music', 'speed', 'h', 'clarity', 'video', 'screen']\n",
      "\n"
     ]
    }
   ],
   "source": [
    "for topic,words in topics_words:\n",
    "    print(str(topic)+ \"::\"+ str(words))\n",
    "print()"
   ]
  },
  {
   "cell_type": "markdown",
   "metadata": {},
   "source": [
    "### Possible topics are\n",
    "\n",
    "1. Product accessories\n",
    "2. Amazon\n",
    "3. Pricing\n",
    "4. Mobile network\n",
    "5.  phone performance\n",
    "6. battery related issues\n",
    "7. camera quality\n",
    "8. overall general phone features "
   ]
  },
  {
   "cell_type": "code",
   "execution_count": null,
   "metadata": {},
   "outputs": [],
   "source": []
  }
 ],
 "metadata": {
  "kernelspec": {
   "display_name": "Python 3",
   "language": "python",
   "name": "python3"
  },
  "language_info": {
   "codemirror_mode": {
    "name": "ipython",
    "version": 3
   },
   "file_extension": ".py",
   "mimetype": "text/x-python",
   "name": "python",
   "nbconvert_exporter": "python",
   "pygments_lexer": "ipython3",
   "version": "3.7.6"
  }
 },
 "nbformat": 4,
 "nbformat_minor": 4
}
